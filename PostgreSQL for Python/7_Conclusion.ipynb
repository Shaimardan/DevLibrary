{
 "cells": [
  {
   "cell_type": "markdown",
   "metadata": {
    "slideshow": {
     "slide_type": "slide"
    }
   },
   "source": [
    "<div style=\"position: relative;\">\n",
    "<img src=\"https://user-images.githubusercontent.com/7065401/98728503-5ab82f80-2378-11eb-9c79-adeb308fc647.png\"></img>\n",
    "\n",
    "<h1 style=\"color: white; position: absolute; top:30%; left:10%;\">\n",
    "    PostgreSQL for Python Developers\n",
    "</h1>\n",
    "\n",
    "<h3 style=\"color: #ef7d22; font-weight: normal; position: absolute; top:48%; left:10%;\">\n",
    "    David Mertz, Ph.D.\n",
    "</h3>\n",
    "\n",
    "<h3 style=\"color: #ef7d22; font-weight: normal; position: absolute; top:55%; left:10%;\">\n",
    "    Data Scientist\n",
    "</h3>\n",
    "</div>"
   ]
  },
  {
   "cell_type": "markdown",
   "metadata": {
    "slideshow": {
     "slide_type": "slide"
    }
   },
   "source": [
    "<h2 style=\"font-weight: bold;\">\n",
    "    What You Know\n",
    "</h2>\n",
    "\n",
    "![orange-divider](https://user-images.githubusercontent.com/7065401/98619088-44ab6000-22e1-11eb-8f6d-5532e68ab274.png)\n",
    "\n",
    "* <img src=\"https://user-images.githubusercontent.com/7065401/103532045-4d478f00-4e69-11eb-9c04-7c5323a4a76f.png\" align=\"right\" width=\"33%\"/>You are familiar with Python's DB-API\n",
    "* You know when to choose an alternate adapter and when to use the standard psycopg2\n",
    "* You feel comfortable with PostgreSQL administration tools\n",
    "* You know the data definition language PostgreSQL uses, both those that are standard SQL and extensions\n",
    "* You understand PostgreSQL's large range of data types \n",
    "* You can utilize existing query functions, and can write your own in Python or SQL when needed\n"
   ]
  },
  {
   "cell_type": "markdown",
   "metadata": {
    "slideshow": {
     "slide_type": "slide"
    }
   },
   "source": [
    "<h2 style=\"font-weight: bold;\">\n",
    "    What Next?\n",
    "</h2>\n",
    "\n",
    "![orange-divider](https://user-images.githubusercontent.com/7065401/98619088-44ab6000-22e1-11eb-8f6d-5532e68ab274.png)\n",
    "\n",
    "<table border=\"0\" background=\"white\">\n",
    "<tr>\n",
    "<td><img src=\"https://user-images.githubusercontent.com/7065401/103532051-4f115280-4e69-11eb-8616-071917e322dc.jpg\" width=\"80%\" align=\"left\"/></td>\n",
    "<td style=\"font-size:26pt\">\n",
    "    <ul>\n",
    "        <li>Much of what makes PostgreSQL powerful is not fully realized in small examples\n",
    "        <li>Identify large datasets and complex relationships that exist in the data you work with</li>\n",
    "        <li>Continue to explore the rich data type system, and choose custom types</li>\n",
    "        <li>Become familiar with writing user defined functions, especially in Python</li>\n",
    "    </ul>\n",
    "    </td>"
   ]
  },
  {
   "cell_type": "markdown",
   "metadata": {},
   "source": [
    "<div style=\"position: relative;\">\n",
    "<img src=\"https://user-images.githubusercontent.com/7065401/98729912-57be3e80-237a-11eb-80e4-233ac344b391.png\"></img>\n",
    "</div>"
   ]
  }
 ],
 "metadata": {
  "kernelspec": {
   "display_name": "Python 3",
   "language": "python",
   "name": "python3"
  },
  "language_info": {
   "codemirror_mode": {
    "name": "ipython",
    "version": 3
   },
   "file_extension": ".py",
   "mimetype": "text/x-python",
   "name": "python",
   "nbconvert_exporter": "python",
   "pygments_lexer": "ipython3",
   "version": "3.8.6"
  }
 },
 "nbformat": 4,
 "nbformat_minor": 4
}
