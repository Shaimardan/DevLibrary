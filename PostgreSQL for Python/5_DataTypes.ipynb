{
 "cells": [
  {
   "cell_type": "markdown",
   "metadata": {},
   "source": [
    "<div style=\"position: relative;\">\n",
    "<img src=\"https://user-images.githubusercontent.com/7065401/98728503-5ab82f80-2378-11eb-9c79-adeb308fc647.png\"></img>\n",
    "\n",
    "<h1 style=\"color: white; position: absolute; top:30%; left:10%;\">\n",
    "    PostgreSQL for Python Developers\n",
    "</h1>\n",
    "\n",
    "<h3 style=\"color: #ef7d22; font-weight: normal; position: absolute; top:48%; left:10%;\">\n",
    "    David Mertz, Ph.D.\n",
    "</h3>\n",
    "\n",
    "<h3 style=\"color: #ef7d22; font-weight: normal; position: absolute; top:55%; left:10%;\">\n",
    "    Data Scientist\n",
    "</h3>\n",
    "</div>\n",
    "<br/>"
   ]
  },
  {
   "cell_type": "markdown",
   "metadata": {},
   "source": [
    "<div style=\"width: 100%; background-color: #ef7d22; text-align: center\">\n",
    "<br><br>\n",
    "\n",
    "<h1 style=\"color: white; font-weight: bold;\">\n",
    "    Data types in PostgreSQL\n",
    "</h1>\n",
    "\n",
    "<br><br> \n",
    "</div>"
   ]
  },
  {
   "cell_type": "markdown",
   "metadata": {},
   "source": [
    "Columns in PostgreSQL may utilize a wide range of data types.  Many of these are features in SQL standards.  Others are PostgreSQL custom data types with particular functions and syntax provided to work with them.  Still others—such as support for XML and JSON—are supported in the most recent SQL standards, but were added in somewhat different forms earlier and independently within PostgreSQL."
   ]
  },
  {
   "cell_type": "code",
   "execution_count": 1,
   "metadata": {},
   "outputs": [],
   "source": [
    "import psycopg2\n",
    "cred = dict(user='ine_student', password='ine-password', database='ine', host='localhost')\n",
    "conn = psycopg2.connect(**cred)\n",
    "cur = conn.cursor()"
   ]
  },
  {
   "cell_type": "markdown",
   "metadata": {},
   "source": [
    "## Numeric types\n",
    "![orange-divider](https://user-images.githubusercontent.com/7065401/98619088-44ab6000-22e1-11eb-8f6d-5532e68ab274.png)\n",
    "\n",
    "PostgreSQL numeric types consist of two, four, and eight byte integers, four and eight byte floating-point numbers, and selectable-precision decimals. "
   ]
  },
  {
   "cell_type": "code",
   "execution_count": 2,
   "metadata": {},
   "outputs": [],
   "source": [
    "sql = \"\"\"\n",
    "CREATE TABLE numbers (\n",
    "    a SMALLINT DEFAULT NULL,        -- -32768 to +32767\n",
    "    b INTEGER DEFAULT NULL,         -- approx -2e9 to +2e9\n",
    "    c BIGINT DEFAULT NULL,          -- approx -9e18 to +9e18  \n",
    "    d DECIMAL(10,9) DEFAULT NULL,   -- up to 16,383 decimals digits!\n",
    "    e DECIMAL(40,25) DEFAULT NULL,  -- up to 131,072 leading digits!\n",
    "    f REAL DEFAULT NULL,            -- 32-bit float\n",
    "    g DOUBLE PRECISION DEFAULT NULL,-- 64-bit float\n",
    "    h MONEY DEFAULT NULL            -- Monetary (locale dependent)\n",
    "    );\n",
    "\"\"\"\n",
    "cur.execute('DROP TABLE IF EXISTS numbers;')\n",
    "cur.execute(sql)\n",
    "conn.commit()"
   ]
  },
  {
   "cell_type": "code",
   "execution_count": 3,
   "metadata": {},
   "outputs": [
    {
     "name": "stdout",
     "output_type": "stream",
     "text": [
      "Column a: (3,)\n",
      "Column b: (3,)\n",
      "Column c: (3,)\n",
      "Column d: (Decimal('3.141592654'),)\n",
      "Column e: (Decimal('3.1415926535897932384626434'),)\n",
      "Column f: (3.1415927,)\n",
      "Column g: (3.141592653589793,)\n",
      "Column h: ('$3.14',)\n"
     ]
    }
   ],
   "source": [
    "pi = '3.14159265358979323846264338327950288419716939937510582097494459230781640628620899862803482534'\n",
    "for col in 'abcdefgh':\n",
    "    try:\n",
    "        cur.execute(f\"INSERT INTO numbers ({col}) VALUES ({pi});\")\n",
    "    except Exception as err:\n",
    "        print(f\"Column {col}: {str(err).strip()}\")\n",
    "    else:\n",
    "        cur.execute(f'SELECT {col} FROM numbers;')\n",
    "        print(f\"Column {col}: {cur.fetchall()[0]}\")\n",
    "    finally:\n",
    "        conn.rollback()"
   ]
  },
  {
   "cell_type": "code",
   "execution_count": 4,
   "metadata": {},
   "outputs": [
    {
     "name": "stdout",
     "output_type": "stream",
     "text": [
      "Column a: smallint out of range\n",
      "Column b: integer out of range\n",
      "Column c: (1000000000000,)\n",
      "Column d: numeric field overflow\n",
      "DETAIL:  A field with precision 10, scale 9 must round to an absolute value less than 10^1.\n",
      "Column e: (Decimal('1000000000000.0000000000000000000000000'),)\n",
      "Column f: (1000000000000.0,)\n",
      "Column g: (1000000000000.0,)\n",
      "Column h: ('$1,000,000,000,000.00',)\n"
     ]
    }
   ],
   "source": [
    "for col in 'abcdefgh':\n",
    "    try:\n",
    "        cur.execute(f\"INSERT INTO numbers ({col}) VALUES (1000000000000);\")\n",
    "    except Exception as err:\n",
    "        print(f\"Column {col}: {str(err).strip()}\")\n",
    "    else:\n",
    "        cur.execute(f'SELECT {col} FROM numbers;')\n",
    "        print(f\"Column {col}: {cur.fetchall()[0]}\")\n",
    "    finally:\n",
    "        conn.rollback()"
   ]
  },
  {
   "cell_type": "markdown",
   "metadata": {},
   "source": [
    "## Character data\n",
    "![orange-divider](https://user-images.githubusercontent.com/7065401/98619088-44ab6000-22e1-11eb-8f6d-5532e68ab274.png)\n",
    "\n",
    "There are two types of character data in PostgreSQL, fixed length which will be space padded, and varying length.  For varying length, you may limit to a maximum length.  In some other database systems, using fixed length character data can be more efficient; however, in PostgreSQL, there is not disadvantage to varying length (possibly slight performance gain), and it should almost always be used in new data tables."
   ]
  },
  {
   "cell_type": "code",
   "execution_count": 5,
   "metadata": {},
   "outputs": [],
   "source": [
    "sql = \"\"\"\n",
    "CREATE TABLE characters (\n",
    "    a CHAR(5),        \n",
    "    b CHAR(50),\n",
    "    c VARCHAR(5),  -- synonym for CHARACTER VARYING\n",
    "    d VARCHAR(50),\n",
    "    e TEXT         -- synonym for VARCHAR with no length\n",
    "    );\n",
    "\"\"\"\n",
    "cur.execute('DROP TABLE IF EXISTS characters;')\n",
    "cur.execute(sql)\n",
    "conn.commit()"
   ]
  },
  {
   "cell_type": "code",
   "execution_count": 6,
   "metadata": {},
   "outputs": [
    {
     "name": "stdout",
     "output_type": "stream",
     "text": [
      "Column a: value too long for type character(5)\n",
      "Column b: ('There is no performance difference                ',)\n",
      "Column c: value too long for type character varying(5)\n",
      "Column d: ('There is no performance difference',)\n",
      "Column e: ('There is no performance difference',)\n"
     ]
    }
   ],
   "source": [
    "s = 'There is no performance difference'\n",
    "for col in 'abcde':\n",
    "    try:\n",
    "        cur.execute(f\"INSERT INTO characters ({col}) VALUES ('{s}');\")\n",
    "    except Exception as err:\n",
    "        print(f\"Column {col}: {str(err).strip()}\")\n",
    "    else:\n",
    "        cur.execute(f'SELECT {col} FROM characters;')\n",
    "        print(f\"Column {col}: {cur.fetchall()[0]}\")\n",
    "    finally:\n",
    "        conn.rollback()"
   ]
  },
  {
   "cell_type": "markdown",
   "metadata": {},
   "source": [
    "## Binary data\n",
    "![orange-divider](https://user-images.githubusercontent.com/7065401/98619088-44ab6000-22e1-11eb-8f6d-5532e68ab274.png)\n",
    "\n",
    "In many database systems, and in the SQL standard, the type BLOB is used.  In PostgreSQL, the equivalent is BYTEA."
   ]
  },
  {
   "cell_type": "code",
   "execution_count": 7,
   "metadata": {},
   "outputs": [],
   "source": [
    "from pickle import dumps, loads\n",
    "cur.execute(\"DROP TABLE IF EXISTS pickles;\")\n",
    "cur.execute(\"CREATE TABLE pickles (name TEXT, bytes BYTEA);\")\n",
    "data = [('tuple', dumps((\"a string\", 1+2j))), ('dict', dumps({'this': 4, 'that': 1.23}))]\n",
    "cur.executemany(\"INSERT INTO pickles VALUES (%s, %s)\", data)"
   ]
  },
  {
   "cell_type": "code",
   "execution_count": 8,
   "metadata": {},
   "outputs": [
    {
     "name": "stdout",
     "output_type": "stream",
     "text": [
      "tuple\n",
      "b'\\x80\\x04\\x95;\\x00\\x00\\x00\\x00\\x00\\x00\\x00\\x8c\\x08a string\\x94\\x8c\\x08builtins\\x94\\x8c\\x07complex\\x94\\x93\\x94G?\\xf0\\x00\\x00\\x00\\x00\\x00\\x00G@\\x00\\x00\\x00\\x00\\x00\\x00\\x00\\x86\\x94R\\x94\\x86\\x94.'\n",
      "('a string', (1+2j))\n",
      "\n",
      "dict\n",
      "b'\\x80\\x04\\x95\\x1e\\x00\\x00\\x00\\x00\\x00\\x00\\x00}\\x94(\\x8c\\x04this\\x94K\\x04\\x8c\\x04that\\x94G?\\xf3\\xae\\x14z\\xe1G\\xaeu.'\n",
      "{'this': 4, 'that': 1.23}\n",
      "\n"
     ]
    }
   ],
   "source": [
    "cur.execute(\"SELECT * FROM pickles;\")\n",
    "for row in cur:\n",
    "    print(row[0])\n",
    "    print(bytes(row[1]))\n",
    "    print(loads(row[1]))\n",
    "    print()"
   ]
  },
  {
   "cell_type": "markdown",
   "metadata": {},
   "source": [
    "## Date and time\n",
    "![orange-divider](https://user-images.githubusercontent.com/7065401/98619088-44ab6000-22e1-11eb-8f6d-5532e68ab274.png)\n",
    "\n",
    "We saw in earlier lessons examples of timestamps, with and without timezone information.  Separate DATE, TIME, and INTERVAL types are also available.  An interval is simply a `timedelta` in Python.  All types with time component have microsecond resolution.\n",
    "\n",
    "If you work with time data of higher resolution, such as Pandas' `datetime64[ns]`, you will need to use a custom storage style, such as strings of sufficient lengths, or numeric types that you cast within your application.\n",
    "\n",
    "Date inputs may take a variety of string formats that are heuristically analyzed.  Where ambiguity may exist, modes of MDY,  DMY, and YMD may be chosen with the SET command."
   ]
  },
  {
   "cell_type": "code",
   "execution_count": 9,
   "metadata": {},
   "outputs": [
    {
     "data": {
      "text/plain": [
       "[(datetime.date(2020, 12, 25),),\n",
       " (datetime.date(2020, 12, 25),),\n",
       " (datetime.date(2020, 12, 25),)]"
      ]
     },
     "execution_count": 9,
     "metadata": {},
     "output_type": "execute_result"
    }
   ],
   "source": [
    "cur.execute(\"DROP TABLE IF EXISTS dates;\")\n",
    "cur.execute(\"CREATE TABLE dates (date DATE);\")\n",
    "\n",
    "examples = [('2020-12-25',), ('Dec 25, 2020',), ('12/25/20',)]\n",
    "cur.executemany(\"INSERT INTO dates VALUES (%s)\", examples)\n",
    "cur.execute(\"SELECT * FROM dates;\")\n",
    "cur.fetchall()"
   ]
  },
  {
   "cell_type": "markdown",
   "metadata": {},
   "source": [
    "## Booleans and enumerations\n",
    "![orange-divider](https://user-images.githubusercontent.com/7065401/98619088-44ab6000-22e1-11eb-8f6d-5532e68ab274.png)\n",
    "\n",
    "A variety of strings can be used to indicate Boolean values.  From Python it is largely moot since you will normally is interpolation of a Python Boolean.  But at times you may encounter strings and wish to use them directly.\n",
    "\n",
    "You can also create enumerated types with a finite list of permitted values."
   ]
  },
  {
   "cell_type": "code",
   "execution_count": 10,
   "metadata": {},
   "outputs": [
    {
     "name": "stdout",
     "output_type": "stream",
     "text": [
      "[True, False, None, True, True, True, True, True, True, True, False, False, False, False, False, False, False]\n"
     ]
    }
   ],
   "source": [
    "cur.execute(\"DROP TABLE IF EXISTS truth;\")\n",
    "cur.execute(\"CREATE TABLE truth (bool BOOLEAN);\")\n",
    "vals = [(v,) for v in \n",
    "        (True, False, None,\n",
    "         'TRUE', 't', 'true', 'y', 'yes', 'on', '1',\n",
    "        'FALSE', 'f', 'false', 'n', 'no', 'off', '0')]\n",
    "\n",
    "cur.executemany(\"INSERT INTO truth VALUES (%s);\", vals)\n",
    "cur.execute(\"SELECT * FROM truth;\")\n",
    "print([v[0] for v in cur.fetchall()])\n",
    "    "
   ]
  },
  {
   "cell_type": "code",
   "execution_count": 11,
   "metadata": {},
   "outputs": [
    {
     "name": "stdout",
     "output_type": "stream",
     "text": [
      "Values (3, uncertain): invalid input value for enum mood: \"uncertain\"\n",
      "LINE 1: INSERT INTO categorical VALUES (3, 'uncertain');\n",
      "                                           ^\n"
     ]
    },
    {
     "data": {
      "text/plain": [
       "[(0, 'happy'), (1, 'sad'), (2, 'ok')]"
      ]
     },
     "execution_count": 11,
     "metadata": {},
     "output_type": "execute_result"
    }
   ],
   "source": [
    "cur.execute(\"DROP TABLE IF EXISTS categorical;\")\n",
    "cur.execute(\"DROP TYPE IF EXISTS mood;\")\n",
    "cur.execute(\"CREATE TYPE mood AS ENUM ('sad', 'ok', 'happy');\")\n",
    "cur.execute(\"CREATE TABLE categorical (day SMALLINT, feeling MOOD);\")\n",
    "\n",
    "for n, feels in enumerate(['happy', 'sad', 'ok', 'uncertain']):\n",
    "    try:\n",
    "        cur.execute(\"INSERT INTO categorical VALUES (%s, %s);\", (n, feels))\n",
    "    except Exception as err:\n",
    "        print(f\"Values ({n}, {feels}): {str(err).strip()}\")\n",
    "        conn.rollback()\n",
    "    else:\n",
    "        conn.commit()\n",
    "\n",
    "cur.execute(f'SELECT * FROM categorical;')\n",
    "cur.fetchall()"
   ]
  },
  {
   "cell_type": "markdown",
   "metadata": {},
   "source": [
    "## Geometric types\n",
    "![orange-divider](https://user-images.githubusercontent.com/7065401/98619088-44ab6000-22e1-11eb-8f6d-5532e68ab274.png)\n",
    "\n",
    "PostgreSQL offers a wide range of geometric types.  All of them describe some particular subset of a Cartesian plain.  The type POINT was used in prior lessons.  We also have: \n",
    "\n",
    "| Type    | Size         | Description         | Representation\n",
    "|---------|--------------|---------------------|-------------------\n",
    "| POINT   | 16 bytes     | Point on a plane    | (x,y)\n",
    "| LINE    | 32 bytes     | Infinite line       | {A,B,C} `Ax+By+C=0`\n",
    "| LSEG    | 32 bytes     | Finite line segment | [(x1,y1),(x2,y2)]\n",
    "| BOX     | 32 bytes     | Rectangular box     | (x1,y1),(x2,y2)\n",
    "| PATH    | 16+16n bytes | Closed; open        | ((x1,y1),...); [(x1,y1),...]\n",
    "| POLYGON | 40+16n bytes | Polygon             | ((x1,y1),...)\n",
    "| CIRCLE  | 24 bytes     | Circle              | <(x,y),r> `<(center), radius>`\n",
    "\n",
    "\n",
    "The types alone are useful, but operations upon them are what is powerful (more details at https://www.postgresql.org/docs/current/functions-geometry.html)."
   ]
  },
  {
   "cell_type": "code",
   "execution_count": 12,
   "metadata": {},
   "outputs": [],
   "source": [
    "from collections import namedtuple\n",
    "Shapes = namedtuple(\"Shapes\", \"point lseg box circle\")\n",
    "cur.execute(\"DROP TABLE IF EXISTS shapes;\")\n",
    "cur.execute(\"\"\"\n",
    "    CREATE TABLE shapes (\n",
    "        pnt POINT,\n",
    "        seg LSEG,\n",
    "        box BOX,\n",
    "        crc CIRCLE\n",
    "    );\"\"\")"
   ]
  },
  {
   "cell_type": "code",
   "execution_count": 13,
   "metadata": {},
   "outputs": [],
   "source": [
    "data = [(\"(1, 1)\", \"[(1, 1), (2, 3)]\", \"(1, 1), (2, 3)\", \"<(1, 1), 1>\"),\n",
    "        (\"(2, 2)\", \"[(2, 3), (1, 1)]\", \"(2, 3), (1, 1)\", \"<(4, 4), 1>\"),\n",
    "        (\"(3, 3)\", \"[(-1, -3), (2, -4)]\", \"(1, 3), (2, 4)\", \"<(1, 1), 1.5>\")\n",
    "       ]\n",
    "cur.executemany(\"INSERT INTO shapes VALUES (%s, %s, %s, %s);\", data)"
   ]
  },
  {
   "cell_type": "markdown",
   "metadata": {},
   "source": [
    "We can ask various questions of these shapes."
   ]
  },
  {
   "cell_type": "code",
   "execution_count": 14,
   "metadata": {},
   "outputs": [
    {
     "name": "stdout",
     "output_type": "stream",
     "text": [
      "Shapes(point='(1,1)', lseg='[(1,1),(2,3)]', box='(2,3),(1,1)', circle='<(1,1),1>')\n",
      "Shapes(point='(2,2)', lseg='[(2,3),(1,1)]', box='(2,3),(1,1)', circle='<(4,4),1>')\n",
      "Shapes(point='(3,3)', lseg='[(-1,-3),(2,-4)]', box='(2,4),(1,3)', circle='<(1,1),1.5>')\n"
     ]
    }
   ],
   "source": [
    "cur.execute(\"SELECT * FROM shapes;\")\n",
    "for row in cur:\n",
    "    print(Shapes(*row))"
   ]
  },
  {
   "cell_type": "code",
   "execution_count": 15,
   "metadata": {},
   "outputs": [
    {
     "name": "stdout",
     "output_type": "stream",
     "text": [
      "Shapes(point='(1,1)', lseg='[(1,1),(2,3)]', box='(2,3),(1,1)', circle='<(1,1),1>')\n",
      "Shapes(point='(2,2)', lseg='[(2,3),(1,1)]', box='(2,3),(1,1)', circle='<(4,4),1>')\n"
     ]
    }
   ],
   "source": [
    "# Equal area\n",
    "cur.execute(\"SELECT * FROM shapes WHERE box = BOX '(0,0),(2,1)';\")\n",
    "for row in cur:\n",
    "    print(Shapes(*row))"
   ]
  },
  {
   "cell_type": "code",
   "execution_count": 16,
   "metadata": {},
   "outputs": [
    {
     "name": "stdout",
     "output_type": "stream",
     "text": [
      "Shapes(point='(1,1)', lseg='[(1,1),(2,3)]', box='(2,3),(1,1)', circle='<(1,1),1>')\n"
     ]
    }
   ],
   "source": [
    "# Equal object\n",
    "cur.execute(\"SELECT * FROM shapes WHERE crc ~= CIRCLE '<(1,1), 1>';\")\n",
    "for row in cur:\n",
    "    print(Shapes(*row))"
   ]
  },
  {
   "cell_type": "code",
   "execution_count": 17,
   "metadata": {},
   "outputs": [
    {
     "name": "stdout",
     "output_type": "stream",
     "text": [
      "Shapes(point='(1,1)', lseg='[(1,1),(2,3)]', box='(2,3),(1,1)', circle='<(1,1),1>')\n",
      "Shapes(point='(2,2)', lseg='[(2,3),(1,1)]', box='(2,3),(1,1)', circle='<(4,4),1>')\n"
     ]
    }
   ],
   "source": [
    "# Intersects\n",
    "cur.execute(\"SELECT * FROM shapes WHERE LSEG '[(0.1, 0.1), (5, 4)]' ?# box;\")\n",
    "for row in cur:\n",
    "    print(Shapes(*row))"
   ]
  },
  {
   "cell_type": "code",
   "execution_count": 18,
   "metadata": {},
   "outputs": [
    {
     "name": "stdout",
     "output_type": "stream",
     "text": [
      "Shapes(point='(1,1)', lseg='[(1,1),(2,3)]', box='(2,3),(1,1)', circle='<(1,1),1>')\n",
      "Shapes(point='(2,2)', lseg='[(2,3),(1,1)]', box='(2,3),(1,1)', circle='<(4,4),1>')\n"
     ]
    }
   ],
   "source": [
    "# Intersection of two objects in columns\n",
    "cur.execute(\"SELECT * FROM shapes WHERE seg ?# box;\")\n",
    "for row in cur:\n",
    "    print(Shapes(*row))"
   ]
  },
  {
   "cell_type": "code",
   "execution_count": 19,
   "metadata": {},
   "outputs": [
    {
     "name": "stdout",
     "output_type": "stream",
     "text": [
      "Shapes(point='(1,1)', lseg='[(1,1),(2,3)]', box='(2,3),(1,1)', circle='<(1,1),1>')\n"
     ]
    }
   ],
   "source": [
    "# Contained in\n",
    "cur.execute(\"SELECT * FROM shapes WHERE pnt <@ crc;\")\n",
    "for row in cur:\n",
    "    print(Shapes(*row))"
   ]
  },
  {
   "cell_type": "markdown",
   "metadata": {},
   "source": [
    "## Text search types\n",
    "![orange-divider](https://user-images.githubusercontent.com/7065401/98619088-44ab6000-22e1-11eb-8f6d-5532e68ab274.png)\n",
    "\n",
    "One area where PostgreSQL is very powerful is in performing efficient full-text search.  For that, we can create some custom types to enable this.  For this example, let us put the Project Gutenberg book, _Introduction to the study of the history of language_, by Herbert Augustus Strong and Willem Sijbrand Logeman and Benjamin Ide Wheeler (1891) into a PostgreSQL table, in a special way."
   ]
  },
  {
   "cell_type": "markdown",
   "metadata": {},
   "source": [
    "> The data associated with this notebook can be found in the files associated with this course."
   ]
  },
  {
   "cell_type": "code",
   "execution_count": 20,
   "metadata": {},
   "outputs": [
    {
     "data": {
      "text/plain": [
       "3247"
      ]
     },
     "execution_count": 20,
     "metadata": {},
     "output_type": "execute_result"
    }
   ],
   "source": [
    "# Create one text for each paragraph\n",
    "paras = open('../data/58650-0.txt').read().split('\\n\\n')\n",
    "len(paras)"
   ]
  },
  {
   "cell_type": "markdown",
   "metadata": {},
   "source": [
    "The format used here will allow many books to be loaded.  For the example, only one is used."
   ]
  },
  {
   "cell_type": "code",
   "execution_count": 21,
   "metadata": {},
   "outputs": [],
   "source": [
    "sql_books = \"\"\"\n",
    "CREATE TABLE books (\n",
    "    book_id TEXT,\n",
    "    para_num INTEGER,\n",
    "    vector TSVECTOR,\n",
    "    raw_text TEXT\n",
    ");\n",
    "\"\"\"\n",
    "cur.execute(\"DROP TABLE IF EXISTS books;\")\n",
    "cur.execute(sql_books)\n",
    "conn.commit()"
   ]
  },
  {
   "cell_type": "code",
   "execution_count": 22,
   "metadata": {},
   "outputs": [],
   "source": [
    "for n, para in enumerate(paras):\n",
    "    # Add both the vector and full text to row\n",
    "    sql = \"INSERT INTO books VALUES (%s, %s, to_tsvector(%s), %s);\"\n",
    "    cur.execute(sql, ('58650-0.txt', n, para, para))\n",
    "conn.commit()"
   ]
  },
  {
   "cell_type": "markdown",
   "metadata": {},
   "source": [
    "Looking at what is added, we see that a TSVECTOR both creates an abstraction of words and also stems them.  Picking a paragraph from somewhere in the middle, we see, for example, the stem `applic` being indexed. Other words are noted with numbers to indicate the several positions where they occur in the text."
   ]
  },
  {
   "cell_type": "code",
   "execution_count": 23,
   "metadata": {},
   "outputs": [
    {
     "data": {
      "text/plain": [
       "(\"'applic':13 'bear':112 'brisban':154 'call':148 'cf':152 'charl':35,64,82,96,101 'circl':78 'circumst':87 'close':94 'come':17 'concret':8 'defin':91,123 'definit':7,160 'denot':19 'differ':15 'employ':164 'england':105 'even':59,130 'famili':73 'first':103 'franc':100 'general':3 'happen':139 'identifi':40,67 'import':144 'inde':43 'known':84 'larg':135 'le':170 'london':155 'man':33 'mani':110 'may':25 'melbourn':153 'mention':57 'mere':28 'must':89 'name':4,12,63,115,119,151 'natur':90 'nearer':159 'neighbourhood':128 'newton':169 'newton-le-willow':168 'one':23 'order':37 'otherwis':157 'person':16,69 'place':111,125,138,147 'proper':11 'receiv':5 'recent':55 'refer':9,45 'singl':22,118 'sixth':98 'speak':30 'stoni':166 'strassburg':156 'stratford':167 'suffic':47 'suffici':27,39,66,121 'us':52 'willow':171 'within':70,75 'without':60 'world':133 'would':46,65\",)"
      ]
     },
     "execution_count": 23,
     "metadata": {},
     "output_type": "execute_result"
    }
   ],
   "source": [
    "cur.execute(\"SELECT vector FROM books WHERE book_id = '58650-0.txt' AND para_num = 181;\")\n",
    "cur.fetchone()"
   ]
  },
  {
   "cell_type": "markdown",
   "metadata": {},
   "source": [
    "This becomes interesting where we want to search for patterns."
   ]
  },
  {
   "cell_type": "markdown",
   "metadata": {},
   "source": [
    "For example, let us find those paragraphs where both a phrase similar to \"proper names\" and a word like \"refer\" occur. Notice that neither of those occur exactly in paragraph 181, but morphological stems do. Capitalization also will not matter for canonicalized search terms."
   ]
  },
  {
   "cell_type": "code",
   "execution_count": 24,
   "metadata": {},
   "outputs": [
    {
     "name": "stdout",
     "output_type": "stream",
     "text": [
      "181: Just as general names receive a definite concrete reference, so proper\n",
      "names applicable to different persons come to denote but a single one.\n",
      "It may be sufficient merely to speak of a man as ‘Charles’ in order to\n",
      "sufficiently identify him; and indeed such reference would suffice if he\n",
      "were before us, or had recently been mentioned. Again, even without\n",
      "this, the name ‘Charles’ would sufficiently identify any person within\n",
      "his own family, or within any other circle where no other ‘Charles’ was\n",
      "known. Under other circumstances, we must naturally define him more\n",
      "closely; as, ‘Charles the Sixth of France,’ ‘Charles the First of\n",
      "England.’ Just so, there are many places bearing the same name; but a\n",
      "single name is sufficient to define the place for [...]\n",
      "\n",
      "1029: The word may be borrowed several times at different periods. It appears\n",
      "in different forms, of which the more recent bears the stamp of the\n",
      "parent language, while the older has been exposed to phonetic changes\n",
      "which have more or less violently acted upon its form. It will generally\n",
      "be found that the meaning attaching to the word when it is borrowed a\n",
      "second time will differ from that which it bears on the first occasion.\n",
      "These words which are more than once borrowed are commonly called\n",
      "doublets; they are very numerous both in French and English, and have\n",
      "been treated of at length by Bréal and Skeat. Instances of such are\n",
      "_priest_, _presbyter_; _champagne_, _campaign_; _preach_, _predict_;\n",
      "_prove_, _probe_. Proper names constantly afford ins [...]\n",
      "\n"
     ]
    }
   ],
   "source": [
    "query = \"\"\"\n",
    "SELECT para_num, raw_text \n",
    "FROM books \n",
    "WHERE vector @@ to_tsquery('(proper <-> name) & (refer)');\n",
    "\"\"\"\n",
    "cur.execute(query)\n",
    "for num, text in cur:\n",
    "    print(f\"{num}: {text[:750]} [...]\\n\")"
   ]
  },
  {
   "cell_type": "markdown",
   "metadata": {},
   "source": [
    "## Other datatypes\n",
    "![orange-divider](https://user-images.githubusercontent.com/7065401/98619088-44ab6000-22e1-11eb-8f6d-5532e68ab274.png)\n",
    "\n",
    "A number of other data types are available for specialized queries.  There are several types for network addresses: CIDR, INET, MACADDR, MACADDR8.  These are string-like, but have custom operators to search subnets.  The UUID type is similarly specialized. \n",
    "\n",
    "The XML data type and associated XMLPARSE and XMLSERIALIZE functions are useful for validation of documents, but do not provide any custom operators.  JSON and JSONB are very useful because they can be indexed, and allow queries using the JSONPATH language.  However, explaining that language is outside the scope of this lesson."
   ]
  },
  {
   "cell_type": "markdown",
   "metadata": {},
   "source": [
    "Not addressed in this lesson, but available in PostgreSQL, are array, range and composite types.  Arrays can be useful to hold multi-dimensional collections of values.  Ranges can provide validation of values with bounds.  Composite types are occasionally useful, but are very similar simply to creating multiple colums with corresponding types.  For example (from PostgreSQL docs):\n",
    "\n",
    "```sql\n",
    "CREATE TYPE inventory_item AS (\n",
    "    name            text,\n",
    "    supplier_id     integer,\n",
    "    price           numeric\n",
    ");\n",
    "CREATE TABLE on_hand (\n",
    "    item      inventory_item,\n",
    "    count     integer\n",
    ");\n",
    "\n",
    "INSERT INTO on_hand VALUES (ROW('fuzzy dice', 42, 1.99), 1000);\n",
    "```"
   ]
  },
  {
   "cell_type": "markdown",
   "metadata": {},
   "source": [
    "<div style=\"position: relative;\">\n",
    "<img src=\"https://user-images.githubusercontent.com/7065401/98729912-57be3e80-237a-11eb-80e4-233ac344b391.png\"></img>\n",
    "</div>"
   ]
  }
 ],
 "metadata": {
  "kernelspec": {
   "display_name": "Python 3",
   "language": "python",
   "name": "python3"
  },
  "language_info": {
   "codemirror_mode": {
    "name": "ipython",
    "version": 3
   },
   "file_extension": ".py",
   "mimetype": "text/x-python",
   "name": "python",
   "nbconvert_exporter": "python",
   "pygments_lexer": "ipython3",
   "version": "3.8.6"
  }
 },
 "nbformat": 4,
 "nbformat_minor": 4
}
