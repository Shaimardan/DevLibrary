{
 "cells": [
  {
   "cell_type": "markdown",
   "metadata": {},
   "source": [
    "<div style=\"position: relative;\">\n",
    "<img src=\"https://user-images.githubusercontent.com/7065401/98728503-5ab82f80-2378-11eb-9c79-adeb308fc647.png\"></img>\n",
    "\n",
    "<h1 style=\"color: white; position: absolute; top:30%; left:10%;\">\n",
    "    PostgreSQL for Python Developers\n",
    "</h1>\n",
    "\n",
    "<h3 style=\"color: #ef7d22; font-weight: normal; position: absolute; top:48%; left:10%;\">\n",
    "    David Mertz, Ph.D.\n",
    "</h3>\n",
    "\n",
    "<h3 style=\"color: #ef7d22; font-weight: normal; position: absolute; top:55%; left:10%;\">\n",
    "    Data Scientist\n",
    "</h3>\n",
    "</div>\n",
    "<br/>"
   ]
  },
  {
   "cell_type": "markdown",
   "metadata": {},
   "source": [
    "<div style=\"width: 100%; background-color: #ef7d22; text-align: center\">\n",
    "<br><br>\n",
    "\n",
    "<h1 style=\"color: white; font-weight: bold;\">\n",
    "    PostgreSQL functions\n",
    "</h1>\n",
    "\n",
    "<br><br> \n",
    "</div>"
   ]
  },
  {
   "cell_type": "markdown",
   "metadata": {},
   "source": [
    "Within PostgreSQL there are a huge number of built-in functions, many of them also available as operators.  As well, you may define your own user-defined functions in several programming languages, including in Python.  In this lesson we also look at PostgreSQL views, which work nicely with functions."
   ]
  },
  {
   "cell_type": "code",
   "execution_count": 1,
   "metadata": {},
   "outputs": [],
   "source": [
    "import psycopg2\n",
    "cred = dict(user='ine_student', password='ine-password', database='ine', host='localhost')\n",
    "from collections import namedtuple\n",
    "\n",
    "conn = psycopg2.connect(**cred)\n",
    "cur = conn.cursor()"
   ]
  },
  {
   "cell_type": "markdown",
   "metadata": {},
   "source": [
    "## Built-in functions\n",
    "![orange-divider](https://user-images.githubusercontent.com/7065401/98619088-44ab6000-22e1-11eb-8f6d-5532e68ab274.png)\n",
    "\n",
    "The hundreds of functions available as built-ins in PostgreSQL can be loosely broken out by the data type(s) they operate on.  For example, we have numeric functions like:\n",
    "\n",
    "* `abs()`: absolute value\n",
    "* `cbrt()`: cube root\n",
    "* `ceil()`: nearest integer greater than or equal\n",
    "* `cos()`: cosine (radians)\n",
    "* `cosd()`: cosine (degrees)\n",
    "* `degrees()`: radians to degrees\n",
    "* `exp(x)`: $e^x$ \n",
    "* `factorial()`\n",
    "\n",
    "Other functions deal with string manipulation, or bit strings, or datetimes, or inet addresses, enums, regular expression matching, geometric functions, and others.  Many of these functions are exposed as, or indeed only available as, operators.\n",
    "\n",
    "Another special kind of function is an aggregation that takes many inputs—typically the many values in a query column—and combines them into a single value.  Particularly notable among those are `count()`, `avg()`, `min()`, `max()`, and `sum()`.  But more specialized ones like `covar_pop()` (population covariance) or `percent_rank()` (percentile of specified value) are also available."
   ]
  },
  {
   "cell_type": "markdown",
   "metadata": {},
   "source": [
    "## Operators\n",
    "![orange-divider](https://user-images.githubusercontent.com/7065401/98619088-44ab6000-22e1-11eb-8f6d-5532e68ab274.png)\n",
    "\n",
    "Many functions are normally used as operators.  Often these follow familiar symbols like `+`, `/` and `*`.  But an operator can be (almost) any combination of `+-*/<>=~!@#%^&|?` up to 63 characters long.  There are a few restriction, the most notable being one not technically imposed of \"don't use more than 3-4 symbols as one operator.\"  We saw a few of these compound operators in earlier examples text search and geometric types."
   ]
  },
  {
   "cell_type": "markdown",
   "metadata": {},
   "source": [
    "We can define our own operators in PostgreSQL.  Let us start with a somwhat contrived example.  One string field function is `left(str text, n int)` that takes the initial portion of a TEXT or CHAR data value.  For example:"
   ]
  },
  {
   "cell_type": "code",
   "execution_count": 2,
   "metadata": {},
   "outputs": [
    {
     "data": {
      "text/plain": [
       "[(0, ''),\n",
       " (1, 'T'),\n",
       " (2, 'Ti'),\n",
       " (3, 'Aut'),\n",
       " (4, 'Rele'),\n",
       " (5, 'Langu'),\n",
       " (6, 'Charac'),\n",
       " (7, '*** STA'),\n",
       " (8, ''),\n",
       " (9, '\\nProduced')]"
      ]
     },
     "execution_count": 2,
     "metadata": {},
     "output_type": "execute_result"
    }
   ],
   "source": [
    "cur.execute('SELECT para_num, left(raw_text, para_num) FROM books LIMIT 10;')\n",
    "cur.fetchall()"
   ]
  },
  {
   "cell_type": "markdown",
   "metadata": {},
   "source": [
    "Suppose this is common operation that we would like to shortcut.  Let's create such shortcuts for both `left()` and `right()`."
   ]
  },
  {
   "cell_type": "code",
   "execution_count": 3,
   "metadata": {},
   "outputs": [],
   "source": [
    "left_op = \"CREATE OPERATOR <| (LEFTARG = text, RIGHTARG = int, PROCEDURE = left);\"\n",
    "right_op = \"CREATE OPERATOR |> (LEFTARG = text, RIGHTARG = int, PROCEDURE = right);\"\n",
    "cur.execute(left_op)\n",
    "cur.execute(right_op)"
   ]
  },
  {
   "cell_type": "code",
   "execution_count": 4,
   "metadata": {},
   "outputs": [
    {
     "data": {
      "text/plain": [
       "[(0, ''),\n",
       " (1, 'T'),\n",
       " (2, 'Ti'),\n",
       " (3, 'Aut'),\n",
       " (4, 'Rele'),\n",
       " (5, 'Langu'),\n",
       " (6, 'harac'),\n",
       " (7, '* STA'),\n",
       " (8, ''),\n",
       " (9, 'duced')]"
      ]
     },
     "execution_count": 4,
     "metadata": {},
     "output_type": "execute_result"
    }
   ],
   "source": [
    "# The last 5 of the initial para_num characters\n",
    "cur.execute('SELECT para_num, (raw_text <| para_num) |> 5 FROM books LIMIT 10;')\n",
    "cur.fetchall()"
   ]
  },
  {
   "cell_type": "markdown",
   "metadata": {},
   "source": [
    "## User-defined functions\n",
    "![orange-divider](https://user-images.githubusercontent.com/7065401/98619088-44ab6000-22e1-11eb-8f6d-5532e68ab274.png)\n",
    "\n",
    "You may create your own functions (and optionally operator synonyms) using SQL, or using PL/pgSQL.  For Python programmers, it is especially powerful to write functions in Python.  Let us first create a simple SQL function.  This one will pull off every Nth paragraph from a given book, and show the first characters from it.  The result is returned as a table."
   ]
  },
  {
   "cell_type": "code",
   "execution_count": 5,
   "metadata": {},
   "outputs": [],
   "source": [
    "sql_nth_para_left = \"\"\"\n",
    "CREATE FUNCTION nth_para_left (N int, L int, id text) \n",
    "    RETURNS TABLE (num int, starts text)\n",
    "AS $$\n",
    "  SELECT para_num, raw_text <| L \n",
    "  FROM books\n",
    "  WHERE para_num % N = 0\n",
    "  AND book_id = id;\n",
    "$$ LANGUAGE SQL;\n",
    "\"\"\"\n",
    "cur.execute(sql_nth_para_left)"
   ]
  },
  {
   "cell_type": "code",
   "execution_count": 6,
   "metadata": {},
   "outputs": [
    {
     "name": "stdout",
     "output_type": "stream",
     "text": [
      "Para(num=0, starts='\\ufeffThe Project Gutenberg EBook of Introduction to th')\n",
      "Para(num=11, starts='')\n",
      "Para(num=22, starts='  AND\\n  BENJAMIN IDE WHEELER\\n  PROFESSOR OF GREEK ')\n",
      "Para(num=66, starts='  XX. THE DIVISION OF THE PARTS OF SPEECH      343')\n",
      "Para(num=33, starts='Moreover, Professor Paul very frequently follows t')\n",
      "Para(num=44, starts='')\n",
      "Para(num=55, starts='  IX. ORIGINAL CREATION      157')\n",
      "Para(num=77, starts='\\nIt is the province of the Science of Language to ')\n",
      "Para(num=88, starts='We now proceed to ask what are the causes of chang')\n",
      "Para(num=99, starts='The comparison implied by such use of these terms ')\n"
     ]
    }
   ],
   "source": [
    "cur.execute(\"SELECT * FROM nth_para_left(11, 50, '58650-0.txt');\")\n",
    "\n",
    "Para = namedtuple(\"Para\", [c.name for c in cur.description])\n",
    "for row in cur.fetchmany(10):\n",
    "    print(Para(*row))"
   ]
  },
  {
   "cell_type": "code",
   "execution_count": 7,
   "metadata": {},
   "outputs": [],
   "source": [
    "# Do not save operators after example\n",
    "conn.rollback()"
   ]
  },
  {
   "cell_type": "markdown",
   "metadata": {},
   "source": [
    "## Python functions\n",
    "![orange-divider](https://user-images.githubusercontent.com/7065401/98619088-44ab6000-22e1-11eb-8f6d-5532e68ab274.png)\n",
    "\n",
    "Creating functions in SQL can be useful, but Python is the chosen language of students of this course.  Before we can do so, some additional components have to be installed and activated.  Doing this will require administrator priviledges for both the underlying operating system and for PostgreSQL.\n",
    "\n",
    "For the extension itself, a system level installer can add it (on the machine where PostgreSQL actually runs).  For example, on a Debian/Ubuntu type machine, you might run:\n",
    "\n",
    "```bash\n",
    "sudo apt-get install postgresql-plpython3\n",
    "```\n",
    "\n",
    "Other operating systems will have varying installation tools."
   ]
  },
  {
   "cell_type": "markdown",
   "metadata": {},
   "source": [
    "Once the software is installed, you need to enable it for a particular database.  The extension you want is named `plpython3u`.  There are a few things going on in that name.  \"pl\" means, roughly, \"PostgreSQL language;\" \"python\" is relatively straightforward; you also want Python 3, not out-of-maintenance version 2.  The \"u\" at the end indicates that it is an \"untrusted language\" in the sense that there is no mechanism to restrict code to a secure \"sandbox.\" \n",
    "\n",
    "A user could write a pl/Python function that did any arbitrary bad action, so add such user functions with caution.  The danger is not so much that someone will write careless code as that they will write malicious code.  Therefore, only a superuser can activate the extension or add such functions.  For example:\n",
    "\n",
    "```bash\n",
    "% sudo -u postgres psql\n",
    "psql (12.5 (Ubuntu 12.5-0ubuntu0.20.04.1))\n",
    "Type \"help\" for help.\n",
    "postgres=# \\c ine\n",
    "You are now connected to database \"ine\" as user \"postgres\".\n",
    "```\n",
    "```sql\n",
    "ine=# CREATE EXTENSION plpython3u;\n",
    "CREATE EXTENSION\n",
    "```\n"
   ]
  },
  {
   "cell_type": "markdown",
   "metadata": {},
   "source": [
    "Let us start with a toy function:\n",
    "\n",
    "```sql\n",
    "ine=# CREATE EXTENSION plpython3u;\n",
    "CREATE EXTENSION\n",
    "ine=# CREATE FUNCTION pymax (a integer, b integer)\n",
    "  RETURNS integer\n",
    "AS $$\n",
    "  if a > b:\n",
    "    return a\n",
    "  return b\n",
    "$$ LANGUAGE plpython3u;\n",
    "CREATE FUNCTION\n",
    "```\n"
   ]
  },
  {
   "cell_type": "code",
   "execution_count": 8,
   "metadata": {},
   "outputs": [
    {
     "name": "stdout",
     "output_type": "stream",
     "text": [
      "Row(a=4, b=3, c=5, max_ab=4)\n",
      "Row(a=7, b=9, c=6, max_ab=9)\n"
     ]
    }
   ],
   "source": [
    "cur.execute(\"SELECT a, b, c, pymax(a, b) max_ab FROM numbers;\")\n",
    "Row = namedtuple(\"Row\", [c.name for c in cur.description])\n",
    "for row in cur:\n",
    "    print(Row(*row))"
   ]
  },
  {
   "cell_type": "markdown",
   "metadata": {},
   "source": [
    "The function `pymax()` doesn't do anything we cannot do with the SQL `max()` function already.  Let us create one that might actually be useful.  For an example, PostgreSQL has a built-in `md5()` function for a cryptographic hash, but one that is not fully secure any longer.  Python supports `sha1()` and other options (SHA1 is possibly questionable now as a cryptographic primitive, but we could equally use SHA256 or BLAKE2b, for example).\n",
    "\n",
    "```sql\n",
    "ine=# CREATE FUNCTION sha1 (t text)\n",
    "  RETURNS CHAR(40)\n",
    "AS $$\n",
    "  import hashlib\n",
    "  h = hashlib.sha1(t.encode('utf-8'))\n",
    "  return h.hexdigest()\n",
    "$$ LANGUAGE plpython3u;\n",
    "```"
   ]
  },
  {
   "cell_type": "markdown",
   "metadata": {},
   "source": [
    "Having defined the function as a superuser, we can utilize it anywhere in the database."
   ]
  },
  {
   "cell_type": "code",
   "execution_count": 9,
   "metadata": {},
   "outputs": [
    {
     "data": {
      "text/plain": [
       "[(0, '9d0224324ae88aa0ef36ccf9bb7a453bda363590'),\n",
       " (1, 'e1711a9b2f93f321ca211c3929e7901405f8d129'),\n",
       " (2, '97a60b5e79735073acbeae0994c7d3eb04b4f356'),\n",
       " (3, '84880e2a31f683013b5bb268e48fed1d9d97fd8d'),\n",
       " (4, 'ca2b701084f7631052932adbb010812a350f80f6')]"
      ]
     },
     "execution_count": 9,
     "metadata": {},
     "output_type": "execute_result"
    }
   ],
   "source": [
    "cur.execute(\"SELECT para_num, sha1(raw_text) FROM books LIMIT 5;\")\n",
    "cur.fetchall()"
   ]
  },
  {
   "cell_type": "markdown",
   "metadata": {},
   "source": [
    "We might even create an operator version of this."
   ]
  },
  {
   "cell_type": "code",
   "execution_count": 10,
   "metadata": {},
   "outputs": [],
   "source": [
    "sha1_op = \"CREATE OPERATOR # (RIGHTARG = text, PROCEDURE = sha1);\"\n",
    "cur.execute(sha1_op)"
   ]
  },
  {
   "cell_type": "code",
   "execution_count": 11,
   "metadata": {},
   "outputs": [
    {
     "data": {
      "text/plain": [
       "[(0, '9d0224324ae88aa0ef36ccf9bb7a453bda363590'),\n",
       " (1, 'e1711a9b2f93f321ca211c3929e7901405f8d129'),\n",
       " (2, '97a60b5e79735073acbeae0994c7d3eb04b4f356'),\n",
       " (3, '84880e2a31f683013b5bb268e48fed1d9d97fd8d'),\n",
       " (4, 'ca2b701084f7631052932adbb010812a350f80f6')]"
      ]
     },
     "execution_count": 11,
     "metadata": {},
     "output_type": "execute_result"
    }
   ],
   "source": [
    "cur.execute(\"SELECT para_num, #raw_text FROM books LIMIT 5;\")\n",
    "cur.fetchall()"
   ]
  },
  {
   "cell_type": "markdown",
   "metadata": {},
   "source": [
    "## Views\n",
    "![orange-divider](https://user-images.githubusercontent.com/7065401/98619088-44ab6000-22e1-11eb-8f6d-5532e68ab274.png)\n",
    "\n",
    "A view is a virtualized table that is only generated when it is accessed.  Among other benefits, this lets us include function calls in queries without a user needing to think about those functions.  View are also commonly useful when they are the result of JOINs, GROUP BYs, subqueries, and other more complex constructions.  The user of the virtual table does not need to think about how it is constructed, just use it as if it were a simple table."
   ]
  },
  {
   "cell_type": "code",
   "execution_count": 12,
   "metadata": {},
   "outputs": [],
   "source": [
    "sql_hashes = \"\"\"\n",
    "CREATE OR REPLACE VIEW book_hashes (book_id, para_num, excerpt, sha1) AS \n",
    "SELECT book_id, para_num, left(raw_text, 40), sha1(raw_text)\n",
    "FROM books;\n",
    "\"\"\"\n",
    "cur.execute(sql_hashes)"
   ]
  },
  {
   "cell_type": "code",
   "execution_count": 13,
   "metadata": {},
   "outputs": [
    {
     "data": {
      "text/plain": [
       "[(1000,\n",
       "  'The defects of written speech which have',\n",
       "  'cf84b2c5c56386d085ca15ea43483343627631ce'),\n",
       " (1001,\n",
       "  'The advantages of a fixed orthography ar',\n",
       "  'a1f30479d3dc089d8715f38fb55d8039afb1e5a6'),\n",
       " (1002,\n",
       "  'On the whole, it is true that the natura',\n",
       "  '9bdeefca3a7a7840f4a889327580e46107bdfa0a'),\n",
       " (1003,\n",
       "  'If we should institute a comparison betw',\n",
       "  '2cb0e4c5e0b73fe08c16d4865e209b895a827d48'),\n",
       " (1004,\n",
       "  'One of the most obvious difficulties tha',\n",
       "  '78c45a50080537d1db61d5f7458788abbdb07c73')]"
      ]
     },
     "execution_count": 13,
     "metadata": {},
     "output_type": "execute_result"
    }
   ],
   "source": [
    "sql = \"\"\"\n",
    "SELECT para_num, excerpt, sha1 \n",
    "FROM book_hashes \n",
    "ORDER BY para_num\n",
    "LIMIT 5 \n",
    "OFFSET 1000;\n",
    "\"\"\"\n",
    "cur.execute(sql)\n",
    "cur.fetchall()"
   ]
  },
  {
   "cell_type": "code",
   "execution_count": 14,
   "metadata": {},
   "outputs": [],
   "source": [
    "# Don't save operator or view\n",
    "conn.rollback()"
   ]
  },
  {
   "cell_type": "markdown",
   "metadata": {},
   "source": [
    "## Summary\n",
    "![orange-divider](https://user-images.githubusercontent.com/7065401/98619088-44ab6000-22e1-11eb-8f6d-5532e68ab274.png)\n"
   ]
  },
  {
   "cell_type": "markdown",
   "metadata": {},
   "source": [
    "Custom functions and operators can be a powerful enhancement to the already right collection of functions PostgreSQL provides.  Combining these with views can provide a simple face to quite complex underlying queries and synthesis of data."
   ]
  },
  {
   "cell_type": "markdown",
   "metadata": {},
   "source": [
    "<div style=\"position: relative;\">\n",
    "<img src=\"https://user-images.githubusercontent.com/7065401/98729912-57be3e80-237a-11eb-80e4-233ac344b391.png\"></img>\n",
    "</div>"
   ]
  }
 ],
 "metadata": {
  "kernelspec": {
   "display_name": "Python 3",
   "language": "python",
   "name": "python3"
  },
  "language_info": {
   "codemirror_mode": {
    "name": "ipython",
    "version": 3
   },
   "file_extension": ".py",
   "mimetype": "text/x-python",
   "name": "python",
   "nbconvert_exporter": "python",
   "pygments_lexer": "ipython3",
   "version": "3.8.6"
  }
 },
 "nbformat": 4,
 "nbformat_minor": 4
}
